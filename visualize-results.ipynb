{
 "cells": [
  {
   "cell_type": "code",
   "execution_count": 1,
   "metadata": {},
   "outputs": [
    {
     "data": {
      "text/plain": [
       "<Figure size 640x480 with 1 Axes>"
      ]
     },
     "metadata": {},
     "output_type": "display_data"
    }
   ],
   "source": [
    "import os\n",
    "import pickle\n",
    "from pprint import pprint\n",
    "import datetime\n",
    "import numpy as np\n",
    "from matplotlib import pyplot as plt\n",
    "\n",
    "dirname = 'results'\n",
    "\n",
    "losses = pickle.load(open(dirname+'/loss.pkl', 'rb'))\n",
    "losses = np.random.randn(100, 4)\n",
    "N_iters = losses.shape[0]\n",
    "\n",
    "# Plot total loss\n",
    "plt.figure()\n",
    "total = plt.plot(range(N_iters), np.sum(losses, axis=1), label='Total')\n",
    "plt.title('Loss')\n",
    "plt.xlabel('Iteration')\n",
    "plt.ylabel('Loss')\n",
    "# plt.show()\n",
    "\n",
    "# Plot respective losses\n",
    "colors = ['r', 'g', 'y', 'k']\n",
    "for i in range(4):\n",
    "    plt.plot(range(N_iters), losses[:, i], colors[i], label='Loss' + str(i+1))\n",
    "\n",
    "plt.legend(loc='upper right')\n",
    "plt.show()"
   ]
  },
  {
   "cell_type": "code",
   "execution_count": 2,
   "metadata": {},
   "outputs": [
    {
     "name": "stdout",
     "output_type": "stream",
     "text": [
      "{'epochs': 1,\n",
      " 'lambdas': (1, 0.01, 0, 50),\n",
      " 'learning_rate': 0.0001,\n",
      " 'multiplier': 0.0001,\n",
      " 'n_processes': 5,\n",
      " 'nb_data': 100}\n",
      "97.97277617454529\n",
      "\n",
      "Runtime: 0:01:37.972776\n"
     ]
    }
   ],
   "source": [
    "# Display hyperparameters and run information\n",
    "\n",
    "params = pickle.load(open(dirname+'/hyperparameters.pkl', 'rb'))\n",
    "pprint(params)\n",
    "\n",
    "runtime = pickle.load(open(dirname+'/runtime.pkl', 'rb'))\n",
    "print(runtime)\n",
    "print('\\nRuntime: ' + str(datetime.timedelta(seconds=runtime)))"
   ]
  },
  {
   "cell_type": "code",
   "execution_count": null,
   "metadata": {},
   "outputs": [],
   "source": []
  }
 ],
 "metadata": {
  "kernelspec": {
   "display_name": "Python 3",
   "language": "python",
   "name": "python3"
  },
  "language_info": {
   "codemirror_mode": {
    "name": "ipython",
    "version": 3
   },
   "file_extension": ".py",
   "mimetype": "text/x-python",
   "name": "python",
   "nbconvert_exporter": "python",
   "pygments_lexer": "ipython3",
   "version": "3.5.2"
  }
 },
 "nbformat": 4,
 "nbformat_minor": 2
}
