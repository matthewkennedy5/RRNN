{
 "cells": [
  {
   "cell_type": "code",
   "execution_count": 1,
   "metadata": {},
   "outputs": [
    {
     "data": {
      "text/plain": [
       "<Figure size 2000x1500 with 1 Axes>"
      ]
     },
     "metadata": {},
     "output_type": "display_data"
    },
    {
     "data": {
      "text/plain": [
       "<Figure size 640x480 with 1 Axes>"
      ]
     },
     "metadata": {},
     "output_type": "display_data"
    }
   ],
   "source": [
    "import os\n",
    "import pickle\n",
    "from pprint import pprint\n",
    "import datetime\n",
    "import numpy as np\n",
    "from matplotlib import pyplot as plt\n",
    "import torch\n",
    "from structure_utils import *\n",
    "\n",
    "dirname = 'OneDatum2'\n",
    "\n",
    "losses = []\n",
    "with open(dirname+'/loss.txt', 'r') as f:\n",
    "    for iteration in f:\n",
    "        losses.append([float(term) for term in iteration.split()])\n",
    "losses = np.array(losses)\n",
    "# print(losses)\n",
    "N_iters = losses.shape[0]\n",
    "\n",
    "# Plot total loss\n",
    "plt.figure(figsize=(20, 15))\n",
    "plt.plot(range(N_iters), np.sum(losses, axis=1), label='Total')\n",
    "plt.title('Loss')\n",
    "plt.xlabel('Iteration')\n",
    "plt.ylabel('Loss')\n",
    "# plt.show()\n",
    "\n",
    "# Plot respective losses\n",
    "colors = ['r', 'g', 'y', 'k']\n",
    "for i in range(4):\n",
    "    plt.plot(range(N_iters), losses[:, i], colors[i], label='Loss' + str(i+1))\n",
    "\n",
    "plt.legend(loc='upper right')\n",
    "plt.show()\n",
    "\n",
    "# Plot loss1 separately\n",
    "plt.figure()\n",
    "plt.title('Loss1')\n",
    "plt.plot(range(N_iters), losses[:, 0])\n",
    "plt.show()\n"
   ]
  },
  {
   "cell_type": "code",
   "execution_count": 2,
   "metadata": {},
   "outputs": [
    {
     "name": "stdout",
     "output_type": "stream",
     "text": [
      "{'epochs': 5000,\n",
      " 'lambdas': (20, 1, 0, 20.0),\n",
      " 'learning_rate': 1e-05,\n",
      " 'loss2_margin': 1,\n",
      " 'multiplier': 0.001,\n",
      " 'n_processes': 1,\n",
      " 'nb_data': 1,\n",
      " 'scoring_hidden_size': 128}\n",
      "\n",
      "Runtime: 12:50:33.085488\n"
     ]
    }
   ],
   "source": [
    "# Display hyperparameters and run information\n",
    "\n",
    "params = pickle.load(open(dirname+'/hyperparameters.pkl', 'rb'))\n",
    "pprint(params)\n",
    "\n",
    "runtime = pickle.load(open(dirname+'/runtime.pkl', 'rb'))\n",
    "print('\\nRuntime: ' + str(datetime.timedelta(seconds=runtime)))"
   ]
  },
  {
   "cell_type": "code",
   "execution_count": 3,
   "metadata": {},
   "outputs": [],
   "source": [
    "# Display weight magnitudes\n",
    "\n",
    "# epochs = params['epochs']\n",
    "# magnitudes = np.zeros(epochs)\n",
    "# scoring = np.zeros(epochs)\n",
    "# for i in range(epochs):\n",
    "#     weights = torch.load(dirname + '/epoch_' + str(i + 1) + '.pt')\n",
    "#     for weight in weights:\n",
    "#         magnitudes[i] += weights[weight].norm()\n",
    "#         if 'scoring' in weight:\n",
    "#             scoring[i] += weights[weight].norm()\n",
    "\n",
    "# plt.figure()\n",
    "# plt.plot(range(epochs), magnitudes, 'g')\n",
    "# plt.title('Norm of weights')\n",
    "# plt.xlabel('Epoch')\n",
    "# plt.show()\n",
    "\n",
    "# plt.figure()\n",
    "# plt.plot(range(epochs), scoring, 'r')\n",
    "# plt.title('Norm of scoring')\n",
    "# plt.xlabel('Epoch')\n",
    "# plt.show()"
   ]
  },
  {
   "cell_type": "code",
   "execution_count": 4,
   "metadata": {},
   "outputs": [
    {
     "name": "stdout",
     "output_type": "stream",
     "text": [
      "Iteration 0\n",
      "[['x', 'h', 1, 'add', 'minus', 'G0'], ['x', 'h', 1, 'add', 'minus', 'G1'], ['x', 'h', 1, 'add', 'minus', 'G2'], ['x', 'h', 1, 'add', 'minus', 'G3'], ['x', 'h', 1, 'add', 'minus', 'G4'], ['G0', 'G1', 1, 'add', 'minus', 'G5'], ['G5', 'G2', 1, 'add', 'minus', 'G6'], ['G6', 'G3', 1, 'add', 'minus', 'G7'], ['G7', 'G4', 1, 'add', 'minus', 'G8']]\n",
      "\n",
      "\n",
      "Iteration 1000\n",
      "[['x', 'h', 2, 'add', 'minus', 'G0'], ['x', 'h', 2, 'add', 'minus', 'G1'], ['x', 'h', 2, 'add', 'minus', 'G2'], ['x', 'h', 2, 'add', 'minus', 'G3'], ['x', 'h', 2, 'add', 'minus', 'G4'], ['G0', 'G1', 0, 'mul', 'minus', 'G5'], ['G5', 'G2', 0, 'mul', 'minus', 'G6'], ['G6', 'G3', 0, 'mul', 'minus', 'G7'], ['G7', 'G4', 0, 'mul', 'minus', 'G8']]\n",
      "\n",
      "\n",
      "Iteration 2000\n",
      "[['x', 'h', 2, 'add', 'minus', 'G0'], ['0', 'G0', 2, 'add', 'minus', 'G1'], ['x', 'h', 2, 'add', 'minus', 'G2'], ['0', 'G2', 2, 'add', 'minus', 'G3'], ['x', 'h', 2, 'add', 'minus', 'G4'], ['0', 'G4', 2, 'add', 'minus', 'G5'], ['0', 'G1', 1, 'mul', 'minus', 'G6'], ['G6', 'G3', 2, 'mul', 'minus', 'G7'], ['G7', 'G5', 2, 'mul', 'minus', 'G8']]\n",
      "\n",
      "\n",
      "Iteration 3000\n",
      "[['x', 'h', 2, 'add', 'minus', 'G0'], ['x', 'h', 2, 'add', 'minus', 'G1'], ['x', 'h', 2, 'add', 'minus', 'G2'], ['x', 'h', 2, 'add', 'minus', 'G3'], ['x', 'h', 2, 'add', 'minus', 'G4'], ['G0', 'G1', 0, 'add', 'sigmoid', 'G5'], ['G5', 'G2', 2, 'mul', 'minus', 'G6'], ['G6', 'G3', 0, 'add', 'sigmoid', 'G7'], ['G7', 'G4', 2, 'mul', 'minus', 'G8']]\n",
      "\n",
      "\n",
      "Iteration 4000\n",
      "[['x', 'h', 1, 'add', 'minus', 'G0'], ['x', 'G0', 2, 'add', 'minus', 'G1'], ['x', 'h', 1, 'add', 'minus', 'G2'], ['x', 'G2', 2, 'add', 'minus', 'G3'], ['x', 'h', 1, 'add', 'minus', 'G4'], ['x', 'G4', 2, 'add', 'minus', 'G5'], ['h', 'G1', 2, 'mul', 'minus', 'G6'], ['G6', 'G3', 0, 'add', 'sigmoid', 'G7'], ['G7', 'G5', 2, 'mul', 'minus', 'G8']]\n",
      "\n",
      "\n",
      "Final structure\n",
      "[['x', 'h', 2, 'add', 'minus', 'G0'], ['x', 'h', 2, 'add', 'minus', 'G1'], ['x', 'h', 2, 'add', 'minus', 'G2'], ['x', 'h', 2, 'add', 'minus', 'G3'], ['x', 'h', 2, 'add', 'minus', 'G4'], ['G0', 'G1', 0, 'add', 'sigmoid', 'G5'], ['G5', 'G2', 2, 'mul', 'minus', 'G6'], ['G6', 'G3', 0, 'add', 'sigmoid', 'G7'], ['G7', 'G4', 2, 'mul', 'minus', 'G8']]\n",
      "\n"
     ]
    }
   ],
   "source": [
    "# Show 5 different structures from training\n",
    "\n",
    "with open(dirname+'/structure.txt') as f:\n",
    "    lines = f.readlines()\n",
    "    structures = []\n",
    "    for line in lines:\n",
    "        if line != '\\n':\n",
    "            structures.append(line)\n",
    "            \n",
    "    spacing = 1000\n",
    "    for i in range(0, N_iters, spacing):\n",
    "        print('Iteration', i)\n",
    "        print(structures[i])\n",
    "        print()\n",
    "    \n",
    "    print('Final structure')\n",
    "    print(structures[-1])"
   ]
  },
  {
   "cell_type": "code",
   "execution_count": 10,
   "metadata": {},
   "outputs": [
    {
     "name": "stdout",
     "output_type": "stream",
     "text": [
      "Best structure (11 differences from GRU) achieved on iteration 405\n",
      "[['x', 'h', 1, 'add', 'minus', 'G0'],\n",
      " ['x', 'G0', 1, 'add', 'minus', 'G1'],\n",
      " ['x', 'h', 1, 'add', 'minus', 'G2'],\n",
      " ['x', 'G2', 1, 'add', 'minus', 'G3'],\n",
      " ['x', 'h', 1, 'add', 'minus', 'G4'],\n",
      " ['x', 'G4', 1, 'add', 'minus', 'G5'],\n",
      " ['0', 'G1', 1, 'add', 'minus', 'G6'],\n",
      " ['G6', 'G3', 1, 'add', 'minus', 'G7'],\n",
      " ['G7', 'G5', 1, 'add', 'minus', 'G8']]\n"
     ]
    }
   ],
   "source": [
    "# Show GRU structures\n",
    "import ast\n",
    "\n",
    "best = None\n",
    "fewest_differences = np.Inf\n",
    "best_iter = 0\n",
    "for i, structure in enumerate(structures):\n",
    "    structure = ast.literal_eval(structure)\n",
    "    if structure_is_gru(structure):\n",
    "        diffs = n_differences(structure, GRU_STRUCTURE)\n",
    "        if diffs < fewest_differences:\n",
    "            best = structure\n",
    "            fewest_differences = diffs\n",
    "            best_iter = i\n",
    "\n",
    "            \n",
    "if best is None:\n",
    "    print('No GRU structures found.')\n",
    "else:\n",
    "    print('Best structure (%d differences from GRU) achieved on iteration %d' % (fewest_differences, best_iter))\n",
    "    pprint(best)"
   ]
  },
  {
   "cell_type": "code",
   "execution_count": null,
   "metadata": {},
   "outputs": [],
   "source": []
  }
 ],
 "metadata": {
  "kernelspec": {
   "display_name": "Python 3",
   "language": "python",
   "name": "python3"
  },
  "language_info": {
   "codemirror_mode": {
    "name": "ipython",
    "version": 3
   },
   "file_extension": ".py",
   "mimetype": "text/x-python",
   "name": "python",
   "nbconvert_exporter": "python",
   "pygments_lexer": "ipython3",
   "version": "3.5.2"
  }
 },
 "nbformat": 4,
 "nbformat_minor": 2
}
